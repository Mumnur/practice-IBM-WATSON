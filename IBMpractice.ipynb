{
  "metadata": {
    "language_info": {
      "codemirror_mode": {
        "name": "python",
        "version": 3
      },
      "file_extension": ".py",
      "mimetype": "text/x-python",
      "name": "python",
      "nbconvert_exporter": "python",
      "pygments_lexer": "ipython3",
      "version": "3.8"
    },
    "kernelspec": {
      "name": "python",
      "display_name": "Pyolite",
      "language": "python"
    }
  },
  "nbformat_minor": 4,
  "nbformat": 4,
  "cells": [
    {
      "cell_type": "markdown",
      "source": "# My Jupyter Notebook on IBM Watson Studio",
      "metadata": {}
    },
    {
      "cell_type": "markdown",
      "source": "**Muhammed Nurhusien Mekonnen** \n\n\nData scientist",
      "metadata": {}
    },
    {
      "cell_type": "markdown",
      "source": "*I am interested in data science because, I want to combine the power of AI/ML with the business and health related requirements, to create powerful solutions and provide deep insights into issues an organization needs to solve or discover underlying patterns to discover new potential insights*",
      "metadata": {}
    },
    {
      "cell_type": "markdown",
      "source": "### The Following Code will generate a random integer between 1 and 50 ###",
      "metadata": {}
    },
    {
      "cell_type": "code",
      "source": "import random\n\nRandom_int = random.randint(1,50)\n\nprint(Random_int)",
      "metadata": {
        "trusted": true
      },
      "execution_count": 15,
      "outputs": [
        {
          "name": "stdout",
          "text": "7\n",
          "output_type": "stream"
        }
      ]
    },
    {
      "cell_type": "markdown",
      "source": "---\nmy name is muhammed i am interested in data science. IBM is good in data science\n***\n> This is a blockquote\n\n\nhttps://en.astu.edu.et\n\n\n~~Scratch this~~\n\n",
      "metadata": {}
    },
    {
      "cell_type": "code",
      "source": "",
      "metadata": {},
      "execution_count": null,
      "outputs": []
    }
  ]
}